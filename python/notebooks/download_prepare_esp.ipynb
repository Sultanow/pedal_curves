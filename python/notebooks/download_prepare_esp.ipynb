{
 "cells": [
  {
   "cell_type": "code",
   "execution_count": 1,
   "metadata": {},
   "outputs": [],
   "source": [
    "import requests\n",
    "import zipfile\n",
    "import io"
   ]
  },
  {
   "cell_type": "markdown",
   "metadata": {},
   "source": [
    "# Download and Prepare Equal Sums of Powers (ESP) Files"
   ]
  },
  {
   "cell_type": "code",
   "execution_count": 2,
   "metadata": {},
   "outputs": [],
   "source": [
    "# Download files from \n",
    "# https://www.math.uni.wroc.pl/~jwr/eslp/tables.htm\n",
    "# and extract them into \"Temp\" directory\n",
    "temp_folder = \"C:/Temp/\"\n",
    "\n",
    "file_list = [\"https://www.math.uni.wroc.pl/~jwr/eslp/313.zip\",\n",
    "    \"https://www.math.uni.wroc.pl/~jwr/eslp/313-1.zip\",\n",
    "    \"https://www.math.uni.wroc.pl/~jwr/eslp/313-2.zip\",\n",
    "    \"https://www.math.uni.wroc.pl/~jwr/eslp/313-3.zip\",\n",
    "    \"https://www.math.uni.wroc.pl/~jwr/eslp/313-4.zip\",\n",
    "    \"https://www.math.uni.wroc.pl/~jwr/eslp/313-5.zip\",\n",
    "    \"https://www.math.uni.wroc.pl/~jwr/eslp/313-6.zip\",\n",
    "    \"https://www.math.uni.wroc.pl/~jwr/eslp/313-7.zip\",\n",
    "    \"https://www.math.uni.wroc.pl/~jwr/eslp/313-8.zip\",\n",
    "    \"https://www.math.uni.wroc.pl/~jwr/eslp/313-9.zip\"]\n",
    "\n",
    "for file_name in file_list:\n",
    "    r = requests.get(file_name)\n",
    "    z = zipfile.ZipFile(io.BytesIO(r.content))\n",
    "    z.extractall(temp_folder)"
   ]
  },
  {
   "cell_type": "code",
   "execution_count": 3,
   "metadata": {},
   "outputs": [],
   "source": [
    "# merge the extracted files to one file called \"313.csv\"\n",
    "temp_folder = \"C:/Temp/\"\n",
    "\n",
    "file_list = [\"313-100K.TXT\",\n",
    "    \"313-1.txt\",\n",
    "    \"313-2.txt\",\n",
    "    \"313-3.txt\",\n",
    "    \"313-4.txt\",\n",
    "    \"313-5.txt\",\n",
    "    \"313-6.txt\",\n",
    "    \"313-7.txt\",\n",
    "    \"313-8.txt\",\n",
    "    \"313-9.txt\"]\n",
    "\n",
    "data = \"\"\n",
    "for file_name in file_list :\n",
    "   with open(temp_folder + file_name, \"r\") as file_handle :\n",
    "      temp_data = file_handle.read()\n",
    "      data = data + temp_data \n",
    "\n",
    "with open (temp_folder + \"313.csv\", \"a\") as file_handle : \n",
    "  file_handle.write(data)"
   ]
  }
 ],
 "metadata": {
  "kernelspec": {
   "display_name": "Python 3.9.12 ('base')",
   "language": "python",
   "name": "python3"
  },
  "language_info": {
   "codemirror_mode": {
    "name": "ipython",
    "version": 3
   },
   "file_extension": ".py",
   "mimetype": "text/x-python",
   "name": "python",
   "nbconvert_exporter": "python",
   "pygments_lexer": "ipython3",
   "version": "3.9.12"
  },
  "metadata": {
   "interpreter": {
    "hash": "ac59ebe37160ed0dfa835113d9b8498d9f09ceb179beaac4002f036b9467c963"
   }
  },
  "orig_nbformat": 2,
  "vscode": {
   "interpreter": {
    "hash": "10774dab879144ab4b5dc139034ff1511eb939bdd72cd4d6485af79f95a3488f"
   }
  }
 },
 "nbformat": 4,
 "nbformat_minor": 2
}
