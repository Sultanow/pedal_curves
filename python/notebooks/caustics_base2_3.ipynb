{
 "cells": [
  {
   "cell_type": "code",
   "execution_count": 1,
   "metadata": {},
   "outputs": [],
   "source": [
    "import numpy as np\n",
    "import math\n",
    "import matplotlib.pyplot as plt\n",
    "import matplotlib.lines as mlines"
   ]
  },
  {
   "cell_type": "code",
   "execution_count": 2,
   "metadata": {},
   "outputs": [],
   "source": [
    "def rotate(t):\n",
    "    #rotate unit vector [0, 1] by \"t\"\n",
    "    x = -math.sin(t)\n",
    "    y = math.cos(t)\n",
    "    return (x, y)\n",
    "\n",
    "def intersect(n: float, f, g, e=0.001):\n",
    "    line1 = (rotate(2*math.pi*g(n)), rotate(2*math.pi*g(f(n))))\n",
    "    p1 = [line1[0][0], line1[0][1]]\n",
    "    p2 = [line1[1][0], line1[1][1]]\n",
    "\n",
    "    line2 = (rotate(2*math.pi*g(n+e)), rotate(2*math.pi*g(f(n+e))))\n",
    "    q1 = [line2[0][0], line2[0][1]]\n",
    "    q2 = [line2[1][0], line2[1][1]]\n",
    "\n",
    "    # Line 1 dy, dx and determinant\n",
    "    a11 = p1[1] - p2[1]\n",
    "    a12 = p2[0] - p1[0]\n",
    "    det1 = p1[0]*p2[1] - p2[0]*p1[1]\n",
    "\n",
    "    # Line 2 dy, dx and determinant\n",
    "    a21 = q1[1] - q2[1]\n",
    "    a22 = q2[0] - q1[0]\n",
    "    det2 = q1[0]*q2[1] - q2[0]*q1[1]\n",
    "\n",
    "    # determinants for solving system of linear equations\n",
    "    # a11*x + a12*y + det1 = 0\n",
    "    # a21*x + a22*y + det2 = 0\n",
    "    detx = a12*det2-a22*det1\n",
    "    dety = det1*a21-det2*a11\n",
    "    det = a11*a22-a21*a12\n",
    "\n",
    "    if det != 0:\n",
    "        intersection = (detx/det, dety/det)\n",
    "        return intersection\n",
    "    else:\n",
    "        return None\n",
    "    \n",
    "    # Alternative way of solving system of linear equations:\n",
    "    # coefficient matrix A, right hand side vector b\n",
    "    \n",
    "    # A = np.array([[a11, a12], [a21, a22]]) \n",
    "    # b = -np.array([det1, det2])\n",
    "    # try:\n",
    "    #    intersection = np.linalg.solve(A,b)\n",
    "    #    #print(\"{0}\\n{1}\\n\\{2}\\n\".format(line1,line2,intersection))\n",
    "    #    return intersection\n",
    "    # except np.linalg.LinAlgError:\n",
    "    #    return None\n",
    "\n",
    "#print(intersect(0.4))"
   ]
  },
  {
   "cell_type": "code",
   "execution_count": 4,
   "metadata": {
    "tags": []
   },
   "outputs": [],
   "source": [
    "def draw_line(ax, line):\n",
    "    ax.add_line(mlines.Line2D([line[0][0], line[1][0]], [line[0][1], line[1][1]]))\n",
    "\n",
    "def draw_dot(ax, pos):\n",
    "    plt.scatter(pos[0], pos[1], s=2, c='#0000FF')\n",
    "\n",
    "def plot(row, f, g):\n",
    "    lines=[]\n",
    "    intersections=[]\n",
    "    for n in np.arange(start, stop, step):\n",
    "        line = (rotate(2*math.pi*g(n)), rotate(2*math.pi*g(f(n))))\n",
    "        lines.append(line)\n",
    "        intersection=intersect(n, f, g)\n",
    "        if intersection is not None:\n",
    "            intersections.append(intersection)\n",
    "\n",
    "    for line in lines:\n",
    "        draw_line(ax[2*row], line)\n",
    "\n",
    "    ax[2*row+1].plot(*zip(*intersections), '-o', markersize=1, linewidth=0.5)\n",
    "\n",
    "subplot_size=8\n",
    "subplot_rows=15\n",
    "subplot_cols=2\n",
    "fig, ax = plt.subplots(subplot_rows, subplot_cols, figsize=(subplot_size*subplot_cols,subplot_size*subplot_rows), dpi=100)\n",
    "ax = ax.flatten()\n",
    "for i in range(subplot_rows*subplot_cols):\n",
    "    ax[i].set_xlim([-1,1])\n",
    "    ax[i].set_ylim([-1,1])\n",
    "\n",
    "\n",
    "start=1\n",
    "stop=100\n",
    "step=0.2\n",
    "\n",
    "f = (lambda n: n**2)\n",
    "g = (lambda n: n/2**(int(math.log(n,2))))\n",
    "plot(0, f, g)\n",
    "\n",
    "f = (lambda n: n**3)\n",
    "g = (lambda n: n/(3**(int(math.log(n,3)))))\n",
    "plot(1, f, g)\n",
    "\n",
    "\n",
    "plt.show()"
   ]
  },
  {
   "cell_type": "code",
   "execution_count": null,
   "metadata": {},
   "outputs": [],
   "source": []
  }
 ],
 "metadata": {
  "interpreter": {
   "hash": "10774dab879144ab4b5dc139034ff1511eb939bdd72cd4d6485af79f95a3488f"
  },
  "kernelspec": {
   "display_name": "Python 3.9.12 ('base')",
   "language": "python",
   "name": "python3"
  },
  "language_info": {
   "codemirror_mode": {
    "name": "ipython",
    "version": 3
   },
   "file_extension": ".py",
   "mimetype": "text/x-python",
   "name": "python",
   "nbconvert_exporter": "python",
   "pygments_lexer": "ipython3",
   "version": "3.9.12"
  },
  "metadata": {
   "interpreter": {
    "hash": "ac59ebe37160ed0dfa835113d9b8498d9f09ceb179beaac4002f036b9467c963"
   }
  },
  "orig_nbformat": 2
 },
 "nbformat": 4,
 "nbformat_minor": 2
}
