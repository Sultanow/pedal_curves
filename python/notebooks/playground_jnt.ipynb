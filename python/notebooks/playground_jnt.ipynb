{
 "cells": [
  {
   "cell_type": "code",
   "execution_count": 3,
   "metadata": {
    "id": "a42M43IPu1cD"
   },
   "outputs": [],
   "source": [
    "import numpy as np\n",
    "import csv\n",
    "import math\n",
    "import matplotlib.pyplot as plt\n",
    "import sympy\n",
    "import itertools\n",
    "import pandas as pd"
   ]
  },
  {
   "cell_type": "code",
   "execution_count": 15,
   "metadata": {},
   "outputs": [
    {
     "name": "stdout",
     "output_type": "stream",
     "text": [
      "[ 5 21 21 85 85]\n",
      "1\n",
      "2\n",
      "7\n",
      "8\n",
      "13\n",
      "14\n"
     ]
    }
   ],
   "source": [
    "def get_binary_len(n:int) -> int:\n",
    "    return len(np.binary_repr(n))\n",
    "\n",
    "def operation_v(n:int) -> int:\n",
    "    return 4*n+1\n",
    "\n",
    "def operation_v_upto_binlen(n:int) -> int:\n",
    "    binlen = get_binary_len(n)\n",
    "    res = 1\n",
    "    for i in range(0,binlen):\n",
    "        res = operation_v(res)\n",
    "    return res\n",
    "\n",
    "def generate_v_series(n:int) -> int:\n",
    "    res = np.zeros(n, dtype=np.uint32)\n",
    "    for i in range(0,n):\n",
    "        res[i] = operation_v_upto_binlen(i+1)\n",
    "    return res\n",
    "\n",
    "\n",
    "print(generate_v_series(5))\n",
    "\n",
    "print(get_binary_len(1))\n",
    "print(get_binary_len(3))\n",
    "print(get_binary_len(113))\n",
    "print(get_binary_len(227))\n",
    "print(get_binary_len(7281))\n",
    "print(get_binary_len(14563))"
   ]
  }
 ],
 "metadata": {
  "colab": {
   "collapsed_sections": [],
   "name": "graphwizz-tree.ipynb",
   "provenance": [],
   "toc_visible": true
  },
  "kernelspec": {
   "display_name": "Python 3.8.3 64-bit ('Development': virtualenv)",
   "metadata": {
    "interpreter": {
     "hash": "524e93b8e0226315aee682eacc6843c81ddb16bd5c2ad8dc8495f33ccc2f5477"
    }
   },
   "name": "python3"
  },
  "language_info": {
   "codemirror_mode": {
    "name": "ipython",
    "version": 3
   },
   "file_extension": ".py",
   "mimetype": "text/x-python",
   "name": "python",
   "nbconvert_exporter": "python",
   "pygments_lexer": "ipython3",
   "version": "3.9.7"
  }
 },
 "nbformat": 4,
 "nbformat_minor": 0
}
