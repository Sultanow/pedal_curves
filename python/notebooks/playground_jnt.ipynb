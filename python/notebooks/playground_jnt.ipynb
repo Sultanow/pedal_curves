{
 "cells": [
  {
   "cell_type": "code",
   "execution_count": 12,
   "metadata": {
    "id": "a42M43IPu1cD"
   },
   "outputs": [],
   "source": [
    "import numpy as np\n",
    "from heapq import merge\n",
    "import matplotlib.pyplot as plt\n",
    "from matplotlib.pyplot import figure"
   ]
  },
  {
   "cell_type": "code",
   "execution_count": 36,
   "metadata": {},
   "outputs": [
    {
     "name": "stdout",
     "output_type": "stream",
     "text": [
      "12\n",
      "[5, 6, 7, 8, 9, 10, 11, 12, 13, 14, 15, 16, 17, 18, 19, 20, 21, 22, 23, 24, 25, 26]\n",
      "[0.0026041666666666665, 0.0013020833333333333, 0.0006510416666666666, 0.0003255208333333333, 0.00016276041666666666, 8.138020833333333e-05, 4.0690104166666664e-05, 6.103515625e-05, 3.0517578125e-05, 6.612141927083333e-05, 5.340576171875e-05, 5.4677327473958336e-05, 5.4041544596354164e-05, 5.1816304524739586e-05, 4.752477010091146e-05, 5.030632019042969e-05, 4.5418739318847656e-05, 4.627307256062826e-05, 4.572669665018717e-05, 4.562238852183024e-05, 4.529207944869995e-05, 4.558141032854716e-05]\n"
     ]
    },
    {
     "data": {
      "image/png": "[encoded data removed]",
      "text/plain": [
       "<Figure size 432x288 with 1 Axes>"
      ]
     },
     "metadata": {
      "needs_background": "light"
     },
     "output_type": "display_data"
    }
   ],
   "source": [
    "def is_Ag(n:int) -> bool:\n",
    "    return n % 24 == 17\n",
    "\n",
    "def operation_v(n:int) -> int:\n",
    "    return 4*n+1\n",
    "\n",
    "def operation_v_n_times(start:int, n:int) -> int:\n",
    "    res = start\n",
    "    for i in range(1, n):\n",
    "        res = operation_v(res)\n",
    "    return res\n",
    "\n",
    "def generate_v_series(start:int, n:int) -> list[int]:\n",
    "    res = [0]*n\n",
    "    for i in range(0, n):\n",
    "        res[i] = operation_v_n_times(start, i+1)\n",
    "    return res\n",
    "\n",
    "def remove_0mod3(v_series:list[int]) -> list[int]:\n",
    "    res = []\n",
    "    for i in v_series:\n",
    "        if i%3 > 0:\n",
    "            res.append(i)\n",
    "    return res\n",
    "\n",
    "def syr_min_1(v_series:list[int]) -> list[int]:\n",
    "    res = []\n",
    "    for i in v_series:\n",
    "        if i%3 == 1:\n",
    "            #Type C case\n",
    "            res.append((4*i-1)//3)\n",
    "        elif i%3 == 2:\n",
    "            #Type A case\n",
    "            res.append((2*i-1)//3)\n",
    "    return res\n",
    "\n",
    "def func(start:int, max_bin_len:int, x:int)->int:\n",
    "    b=len(np.binary_repr(start))\n",
    "    if is_Ag(start):\n",
    "        x += 1\n",
    "    v_series = generate_v_series(start, (max_bin_len-b)//2)\n",
    "    #print(v_series)\n",
    "    thinned_out_series = remove_0mod3(v_series)\n",
    "    #print(thinned_out_series)\n",
    "    syr_min1_series = syr_min_1(thinned_out_series)\n",
    "    #print(syr_min1_series)\n",
    "    #print(x)\n",
    "    for i in syr_min1_series:\n",
    "        if is_Ag(i):\n",
    "            x += 1\n",
    "        x = func(i, max_bin_len, x)\n",
    "    return x\n",
    "\n",
    "start = 3\n",
    "max_bin_len = 10\n",
    "x = func(start, max_bin_len, 0)\n",
    "print(x)\n",
    "\n",
    "start = 641\n",
    "x_val=[]\n",
    "y_val=[]\n",
    "for mbl in range(5, 26+1):\n",
    "    x_val.append(mbl)\n",
    "    y = func(start, mbl, 0)\n",
    "    y = y/(2**(mbl-1))/24\n",
    "    y_val.append(y)\n",
    "\n",
    "\n",
    "print(x_val)\n",
    "print(y_val)\n",
    "\n",
    "plt.plot(x_val, y_val)  \n",
    "plt.show()"
   ]
  },
  {
   "cell_type": "code",
   "execution_count": 39,
   "metadata": {},
   "outputs": [
    {
     "name": "stdout",
     "output_type": "stream",
     "text": [
      "syr_min1_series: {0} [1, 3, 113, 227, 7281, 14563, 466033, 932067, 29826161, 59652323, 1908874353, 3817748707, 122167958641, 244335917283, 7818749353073, 15637498706147, 500399958596721, 1000799917193443, 32025597350190193, 64051194700380387, 2049638230412172401, 4099276460824344803, 131176846746379033713, 262353693492758067427, 8395318191768258157681, 16790636383536516315363, 537300364273168522091633, 1074600728546337044183267, 34387223313482785413864561, 68774446626965570827729123, 2200782292062898266487331953, 4401564584125796532974663907, 140850066692025489055189245041, 281700133384050978110378490083, 9014404268289631299532111682673, 18028808536579262599064223365347, 576921873170536403170055147691121, 1153843746341072806340110295382243, 36922999882914329802883529452231793, 73845999765828659605767058904463587, 2363071992506517107384545884942834801, 4726143985013034214769091769885669603, 151236607520417094872610936636341427313, 302473215040834189745221873272682854627, 9679142881306694071847099944725851348081, 19358285762613388143694199889451702696163, 619465144403628420598214396462454486277233, 1238930288807256841196428792924908972554467, 39645769241832218918285721373597087121742961, 79291538483664437836571442747194174243485923, 2537329231477262010770286167910213575791549553, 5074658462954524021540572335820427151583099107, 162389070814544768689298314746253668850659171441, 324778141629089537378596629492507337701318342883, 10392900532130865196115092143760234806442186972273, 20785801064261730392230184287520469612884373944547, 665145634056375372551365897200655027612299966225521, 1330291268112750745102731794401310055224599932451043, 42569320579608023843287417420841921767187197838433393, 85138641159216047686574834841683843534374395676866787, 2724436517094913525970394714933882993099980661659737201, 5448873034189827051940789429867765986199961323319474403, 174363937094074465662105261755768511558398762346223180913, 348727874188148931324210523511537023116797524692446361827, 11159291974020765802374736752369184739737520790158283578481, 22318583948041531604749473504738369479475041580316567156963]\n"
     ]
    },
    {
     "data": {
      "image/png": "[encoded data removed]",
      "text/plain": [
       "<Figure size 1152x72 with 1 Axes>"
      ]
     },
     "metadata": {
      "needs_background": "light"
     },
     "output_type": "display_data"
    }
   ],
   "source": [
    "start = 1\n",
    "max_bin_len = 200\n",
    "b=len(np.binary_repr(start))\n",
    "v_series = generate_v_series(start, (max_bin_len-b)//2)\n",
    "thinned_out_series = remove_0mod3(v_series)\n",
    "syr_min1_series = syr_min_1(thinned_out_series)\n",
    "\n",
    "res = syr_min1_series\n",
    "l = len(res)\n",
    "x = range(1, l+1)\n",
    "y = [1]*l\n",
    "colors = [\"black\"]*l\n",
    "for idx, i in enumerate(res):\n",
    "    if i%3 == 2:\n",
    "        colors[idx]=\"orange\"\n",
    "    if is_Ag(i):\n",
    "        colors[idx]=\"red\"\n",
    "\n",
    "#print(\"v_series: {0}\", v_series)\n",
    "#print(\"thinned_out_series: {0}\", thinned_out_series)\n",
    "print(\"syr_min1_series: {0}\", syr_min1_series)\n",
    "\n",
    "figure(figsize=(16, 1))\n",
    "plt.scatter(x, y, s=16, c=colors, alpha=1)\n",
    "plt.axis('off')\n",
    "plt.show()"
   ]
  },
  {
   "cell_type": "code",
   "execution_count": 36,
   "metadata": {},
   "outputs": [
    {
     "name": "stdout",
     "output_type": "stream",
     "text": [
      "[11, 45, 181, 725]\n"
     ]
    }
   ],
   "source": [
    "def numberToBase(n, b):\n",
    "    if n == 0:\n",
    "        return [0]\n",
    "    digits = []\n",
    "    while n:\n",
    "        digits.append(int(n % b))\n",
    "        n //= b\n",
    "    return digits[::-1]\n",
    "\n",
    "def count_17mod24(series:list[int]) -> int:\n",
    "    res = 0\n",
    "    for i in series:\n",
    "        if i%24 == 17:\n",
    "            res+=1\n",
    "    return res\n",
    "\n"
   ]
  },
  {
   "cell_type": "code",
   "execution_count": null,
   "metadata": {},
   "outputs": [],
   "source": []
  }
 ],
 "metadata": {
  "colab": {
   "collapsed_sections": [],
   "name": "graphwizz-tree.ipynb",
   "provenance": [],
   "toc_visible": true
  },
  "kernelspec": {
   "display_name": "Python 3.8.3 64-bit ('Development': virtualenv)",
   "metadata": {
    "interpreter": {
     "hash": "524e93b8e0226315aee682eacc6843c81ddb16bd5c2ad8dc8495f33ccc2f5477"
    }
   },
   "name": "python3"
  },
  "language_info": {
   "codemirror_mode": {
    "name": "ipython",
    "version": 3
   },
   "file_extension": ".py",
   "mimetype": "text/x-python",
   "name": "python",
   "nbconvert_exporter": "python",
   "pygments_lexer": "ipython3",
   "version": "3.9.7"
  }
 },
 "nbformat": 4,
 "nbformat_minor": 0
}
